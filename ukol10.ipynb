{
 "cells": [
  {
   "cell_type": "code",
   "execution_count": null,
   "metadata": {},
   "outputs": [],
   "source": [
    "import pandas"
   ]
  },
  {
   "cell_type": "code",
   "execution_count": null,
   "metadata": {},
   "outputs": [],
   "source": [
    "zam_liberec=pandas.read_csv(\"zam_liberec.txt\")\n",
    "zam_plzen=pandas.read_csv(\"zam_plzeň.txt\")\n",
    "zam_praha=pandas.read_csv(\"zam_praha.txt\")"
   ]
  },
  {
   "cell_type": "code",
   "execution_count": null,
   "metadata": {},
   "outputs": [],
   "source": [
    "zam_liberec['mesto']='zam_liberec'\n",
    "zam_plzen['mesto']='zam_plzen'\n",
    "zam_praha['mesto']='zam_praha'"
   ]
  },
  {
   "cell_type": "code",
   "execution_count": null,
   "metadata": {},
   "outputs": [],
   "source": [
    "zamestnanci = pandas.concat([zam_liberec, zam_plzen, zam_praha], ignore_index=True)\n",
    "zamestnanci.to_csv('zamestnanci.csv', index=False)"
   ]
  },
  {
   "cell_type": "code",
   "execution_count": null,
   "metadata": {},
   "outputs": [],
   "source": [
    "zamestnanci=pandas.read_csv(\"zamestnanci.csv\")\n",
    "zamestnanci"
   ]
  },
  {
   "cell_type": "code",
   "execution_count": null,
   "metadata": {},
   "outputs": [],
   "source": [
    "platy=pandas.read_csv(\"platy_2021_02.txt\")\n",
    "platy\n",
    "zamestnancni_s_platy=pandas.merge(zamestnanci, platy, on=\"cislo_zamestnance\", how=\"inner\")"
   ]
  },
  {
   "cell_type": "code",
   "execution_count": null,
   "metadata": {},
   "outputs": [],
   "source": [
    "zamestnancni_s_platy"
   ]
  },
  {
   "cell_type": "code",
   "execution_count": null,
   "metadata": {},
   "outputs": [],
   "source": [
    "zamestnancni_s_platy.shape\n",
    "zamestnanci.shape\n",
    "platy.shape\n",
    "zamestnancni_s_platy"
   ]
  },
  {
   "cell_type": "code",
   "execution_count": null,
   "metadata": {},
   "outputs": [],
   "source": [
    "zamestnancni_s_platy.groupby(\"mesto\")\n",
    "zamestnancni_s_platy.groupby(\"mesto\")[\"plat\"].mean()"
   ]
  },
  {
   "cell_type": "code",
   "execution_count": null,
   "metadata": {},
   "outputs": [],
   "source": [
    "vykazy=pandas.read_csv(\"vykazy.txt\")\n",
    "vykazy"
   ]
  },
  {
   "cell_type": "code",
   "execution_count": null,
   "metadata": {},
   "outputs": [],
   "source": [
    "vykazy.groupby(\"project\")\n",
    "vykazy.groupby(\"project\")[\"hours\"].sum()"
   ]
  }
 ],
 "metadata": {
  "kernelspec": {
   "display_name": "Python 3",
   "language": "python",
   "name": "python3"
  },
  "language_info": {
   "codemirror_mode": {
    "name": "ipython",
    "version": 3
   },
   "file_extension": ".py",
   "mimetype": "text/x-python",
   "name": "python",
   "nbconvert_exporter": "python",
   "pygments_lexer": "ipython3",
   "version": "3.9.10"
  },
  "orig_nbformat": 4
 },
 "nbformat": 4,
 "nbformat_minor": 2
}
